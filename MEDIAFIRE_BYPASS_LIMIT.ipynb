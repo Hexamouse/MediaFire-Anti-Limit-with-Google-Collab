{
  "nbformat": 4,
  "nbformat_minor": 0,
  "metadata": {
    "colab": {
      "provenance": [],
      "gpuType": "V5E1"
    },
    "kernelspec": {
      "name": "python3",
      "display_name": "Python 3"
    },
    "language_info": {
      "name": "python"
    },
    "accelerator": "TPU"
  },
  "cells": [
    {
      "cell_type": "code",
      "execution_count": 1,
      "metadata": {
        "colab": {
          "base_uri": "https://localhost:8080/"
        },
        "id": "bdAsmhMTXRct",
        "outputId": "4ad89220-7140-4bb4-d900-92961081e101"
      },
      "outputs": [
        {
          "output_type": "stream",
          "name": "stdout",
          "text": [
            "Mounted at /content/drive\n"
          ]
        }
      ],
      "source": [
        "from google.colab import drive\n",
        "drive.mount('/content/drive')"
      ]
    },
    {
      "cell_type": "code",
      "source": [
        "!pip install requests bs4"
      ],
      "metadata": {
        "colab": {
          "base_uri": "https://localhost:8080/"
        },
        "id": "YFiIcqa6YLKf",
        "outputId": "655a31ad-4b27-4814-cd38-23df645c1d0d"
      },
      "execution_count": 3,
      "outputs": [
        {
          "output_type": "stream",
          "name": "stdout",
          "text": [
            "Requirement already satisfied: requests in /usr/local/lib/python3.12/dist-packages (2.32.4)\n",
            "Collecting bs4\n",
            "  Downloading bs4-0.0.2-py2.py3-none-any.whl.metadata (411 bytes)\n",
            "Requirement already satisfied: charset_normalizer<4,>=2 in /usr/local/lib/python3.12/dist-packages (from requests) (3.4.3)\n",
            "Requirement already satisfied: idna<4,>=2.5 in /usr/local/lib/python3.12/dist-packages (from requests) (3.10)\n",
            "Requirement already satisfied: urllib3<3,>=1.21.1 in /usr/local/lib/python3.12/dist-packages (from requests) (2.5.0)\n",
            "Requirement already satisfied: certifi>=2017.4.17 in /usr/local/lib/python3.12/dist-packages (from requests) (2025.8.3)\n",
            "Requirement already satisfied: beautifulsoup4 in /usr/local/lib/python3.12/dist-packages (from bs4) (4.13.5)\n",
            "Requirement already satisfied: soupsieve>1.2 in /usr/local/lib/python3.12/dist-packages (from beautifulsoup4->bs4) (2.8)\n",
            "Requirement already satisfied: typing-extensions>=4.0.0 in /usr/local/lib/python3.12/dist-packages (from beautifulsoup4->bs4) (4.15.0)\n",
            "Downloading bs4-0.0.2-py2.py3-none-any.whl (1.2 kB)\n",
            "Installing collected packages: bs4\n",
            "Successfully installed bs4-0.0.2\n"
          ]
        }
      ]
    },
    {
      "cell_type": "code",
      "source": [
        "import requests\n",
        "from bs4 import BeautifulSoup\n",
        "import os\n",
        "\n",
        "URL_ASLI = \"URL ASLI MEDIAFIRE\"\n",
        "NAMA_FILE_FINAL = \"NAMA FILE.rar\"\n",
        "PATH_SIMPAN = f\"/content/drive/MyDrive/{NAMA_FILE_FINAL}\"\n",
        "\n",
        "print(\"Mengakses web MediaFire...\")\n",
        "halaman = requests.get(URL_ASLI)\n",
        "soup = BeautifulSoup(halaman.text, 'html.parser')\n",
        "\n",
        "direct_link_element = soup.find('a', {'id': 'downloadButton'})\n",
        "\n",
        "if direct_link_element and 'href' in direct_link_element.attrs:\n",
        "    direct_link = direct_link_element['href']\n",
        "    print(f\"Link Direct Ditemukan: {direct_link}\")\n",
        "\n",
        "    print(\"\\nDownload dimulai\")\n",
        "    !wget -O \"{PATH_SIMPAN}\" \"{direct_link}\"\n",
        "\n",
        "    print(\"\\nDOWNLOAD SELESAI\")\n",
        "\n",
        "else:\n",
        "    print(\"ERROR: Tidak menemukan link download Mediafire.\")"
      ],
      "metadata": {
        "colab": {
          "base_uri": "https://localhost:8080/"
        },
        "id": "g7kivcvqYOhP",
        "outputId": "4ea718f7-a5d3-49b8-de35-ba04a4c68c87"
      },
      "execution_count": 7,
      "outputs": [
        {
          "output_type": "stream",
          "name": "stdout",
          "text": [
            "Mengakses halaman MediaFire...\n",
            "Link Direct Ditemukan: https://download1072.mediafire.com/280saib6t8qgjI3GeMvAUZOcWxcowzak4XN7GQpTjxJXYXSEzywuBuEWzpiHGlWL7G55_DLQkmNBoolouaIcZkxpe-2mvAGsWPwUdUgN0gpZJ_CFqzJEEjKuzF-ldxU5q8mWBtFBL5QHMBYl0_9ZgnHQv0rcb6f2VcfJ-P53jeuCypg/97c7b0m5wk2j33n/ADW+PACK+.vol+1+%28+Adry+WG+%29.7z\n",
            "\n",
            "Download dimulai\n",
            "--2025-09-29 12:13:20--  https://download1072.mediafire.com/280saib6t8qgjI3GeMvAUZOcWxcowzak4XN7GQpTjxJXYXSEzywuBuEWzpiHGlWL7G55_DLQkmNBoolouaIcZkxpe-2mvAGsWPwUdUgN0gpZJ_CFqzJEEjKuzF-ldxU5q8mWBtFBL5QHMBYl0_9ZgnHQv0rcb6f2VcfJ-P53jeuCypg/97c7b0m5wk2j33n/ADW+PACK+.vol+1+%28+Adry+WG+%29.7z\n",
            "Resolving download1072.mediafire.com (download1072.mediafire.com)... 205.196.122.13\n",
            "Connecting to download1072.mediafire.com (download1072.mediafire.com)|205.196.122.13|:443... connected.\n",
            "HTTP request sent, awaiting response... 200 OK\n",
            "Length: 325756346 (311M) [application/x-7z-compressed]\n",
            "Saving to: ‘/content/drive/MyDrive/MACDII_-_DUTCH_XPLODE_SAMPLE_PACK.rar’\n",
            "\n",
            "/content/drive/MyDr 100%[===================>] 310.67M  62.0MB/s    in 5.4s    \n",
            "\n",
            "2025-09-29 12:13:26 (57.3 MB/s) - ‘/content/drive/MyDrive/MACDII_-_DUTCH_XPLODE_SAMPLE_PACK.rar’ saved [325756346/325756346]\n",
            "\n",
            "\n",
            "DOWNLOAD SELESAI\n"
          ]
        }
      ]
    }
  ]
}